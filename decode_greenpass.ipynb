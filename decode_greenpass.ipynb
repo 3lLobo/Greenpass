{
 "cells": [
  {
   "cell_type": "markdown",
   "metadata": {},
   "source": [
    "# Decode your Greenpass\n",
    "Steps:\n",
    " - define path to your QR-code\n",
    " - decode the information\n",
    " - gaze at your personal details"
   ]
  },
  {
   "cell_type": "code",
   "execution_count": 73,
   "metadata": {},
   "outputs": [],
   "source": [
    "qrcode_path = 'res/qr_new.png'\n",
    "\n",
    "schema_url = 'https://raw.githubusercontent.com/ehn-dcc-development/ehn-dcc-schema/release/1.3.0/DCC.combined-schema.json'"
   ]
  },
  {
   "cell_type": "code",
   "execution_count": 87,
   "metadata": {},
   "outputs": [
    {
     "data": {
      "text/plain": [
       "({'1': 'DE',\n",
       "  -260: {1: {'v': [{'dn': 2,\n",
       "      'sd': 'infinity',\n",
       "      'ma': 'ORG-100030215',\n",
       "      'vp': '1119349007',\n",
       "      'dt': '2021-06-11',\n",
       "      'co': 'DE',\n",
       "      'ci': '420_69',\n",
       "      'mp': 'EU/1/20/1528',\n",
       "      'is': 'Reichsministerium für Volksaufklärung und Propaganda',\n",
       "      'tg': '840539006'}],\n",
       "    'nam': {'fnt': 'Goebbels',\n",
       "     'fn': 'Goebbels',\n",
       "     'gnt': 'Paul Joseph',\n",
       "     'gn': 'Paul Joseph'},\n",
       "    'ver': '1.3.0',\n",
       "    'dob': '1897-10-29'}}},\n",
       " (b'\\xa2\\x04H\\xdeT\\xe6\\x01\\x95\\xf5\\xf4d\\x01&',\n",
       "  {},\n",
       "  b'\\xa2a1bDE9\\x01\\x03\\xa1\\x01\\xa4av\\x81\\xaabdn\\x02bsdhinfinitybmamORG-100030215bvpj1119349007bdtj2021-06-11bcobDEbcif420_69bmplEU/1/20/1528bisx6Reichsministerium f\\xc3\\xbcr Volksaufkl\\xc3\\xa4rung und Propagandabtgi840539006cnam\\xa4cfnthGoebbelsbfnhGoebbelscgntkPaul JosephbgnkPaul Josephcvere1.3.0cdobj1897-10-29',\n",
       "  b'R\\xe2\\xef\\ru\\xd4\\x1at\\xd9\\x89Bn\\xeb>\\x1c\\x0e]\\xc5\\x96\\xe5Y\\x1b\\xfb,\\xb6\\xb1NB\\x0f\\xd0\\x95\\x1d\\xf3\\xbfn\\xfaG\\x8b\\x1eF\\x8d\\x8a\\xd3B-\\xc8\\xcb\\xa9\\x8f\\xe6\\xfb\\x07\\xb8\\xbb\\xa2\\x9f(\\xad\\xcd7\\xd0\\x88W\\t'))"
      ]
     },
     "execution_count": 87,
     "metadata": {},
     "output_type": "execute_result"
    }
   ],
   "source": [
    "from coder import GreenPassDecoder\n",
    "\n",
    "with open(qrcode_path, 'rb') as f:\n",
    "    deco = GreenPassDecoder(f)\n",
    "deco.decode()"
   ]
  },
  {
   "cell_type": "markdown",
   "metadata": {},
   "source": [
    "## Now we save your data as MD file"
   ]
  },
  {
   "cell_type": "code",
   "execution_count": 88,
   "metadata": {},
   "outputs": [
    {
     "name": "stdout",
     "output_type": "stream",
     "text": [
      "SCHEMA used!\n"
     ]
    }
   ],
   "source": [
    "with open(qrcode_path.replace('png', 'md'), 'w') as f:\n",
    "    f.writelines(deco.decode(schema_url)[0].convert_json())"
   ]
  },
  {
   "cell_type": "code",
   "execution_count": null,
   "metadata": {},
   "outputs": [],
   "source": []
  }
 ],
 "metadata": {
  "interpreter": {
   "hash": "8a061a459805b0061a8aef2c35343c0415a5e15d26ef54442c765ebae2534280"
  },
  "kernelspec": {
   "display_name": "Python 3.9.7 64-bit ('greenpass': conda)",
   "language": "python",
   "name": "python3"
  },
  "language_info": {
   "codemirror_mode": {
    "name": "ipython",
    "version": 3
   },
   "file_extension": ".py",
   "mimetype": "text/x-python",
   "name": "python",
   "nbconvert_exporter": "python",
   "pygments_lexer": "ipython3",
   "version": "3.9.7"
  },
  "orig_nbformat": 4
 },
 "nbformat": 4,
 "nbformat_minor": 2
}
