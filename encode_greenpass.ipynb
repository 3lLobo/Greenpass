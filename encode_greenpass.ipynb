{
 "cells": [
  {
   "cell_type": "markdown",
   "metadata": {},
   "source": [
    "# Encode your (un)personalized Greenpass\n",
    "Steps:\n",
    " - define your data\n",
    " - find the magic private key\n",
    " - use your old header"
   ]
  },
  {
   "cell_type": "code",
   "execution_count": 16,
   "metadata": {},
   "outputs": [],
   "source": [
    "DATA = {\n",
    "    \"1\": \"DE\",\n",
    "    -260: {\n",
    "        1: {\n",
    "            \"v\": [\n",
    "                {\n",
    "                    \"dn\": 2,\n",
    "                    \"sd\": \"infinity\",\n",
    "                    \"ma\": \"ORG-100030215\",\n",
    "                    \"vp\": \"1119349007\",\n",
    "                    \"dt\": \"2021-06-11\",\n",
    "                    \"co\": \"DE\",\n",
    "                    \"ci\": \"420_69\",\n",
    "                    \"mp\": \"EU/1/20/1528\",\n",
    "                    \"is\": \"Reichsministerium für Volksaufklärung und Propaganda\",\n",
    "                    \"tg\": \"840539006\"\n",
    "                }\n",
    "            ],\n",
    "            \"nam\": {\n",
    "                \"fnt\": \"Goebbels\",\n",
    "                \"fn\": \"Goebbels\",\n",
    "                \"gnt\": \"Paul Joseph\",\n",
    "                \"gn\": \"Paul Joseph\"\n",
    "            },\n",
    "            \"ver\": \"1.3.0\",\n",
    "            \"dob\": \"1897-10-29\"\n",
    "        }\n",
    "    }\n",
    "}\n",
    "\n",
    "# just 32 random bytes generated with `openssl rand -hex 32`\n",
    "PRIVKEY = b\"9d370d925476752486ab0e4a8e088228e493da12d1586fafae9f35880dbcfe03\"\n",
    "\n",
    "# using an already signed header from a real certificate adds info on the issuer in the checker apps\n",
    "HEADER = b\"\\xa2\\x04H\\xdeT\\xe6\\x01\\x95\\xf5\\xf4d\\x01&\"\n",
    "\n",
    "# choose filename\n",
    "path = 'res/qr_new.png'"
   ]
  },
  {
   "cell_type": "code",
   "execution_count": 17,
   "metadata": {},
   "outputs": [],
   "source": [
    "from coder import encode_greenpass\n",
    "\n",
    "encode_greenpass(path, DATA, PRIVKEY, HEADER)"
   ]
  },
  {
   "cell_type": "code",
   "execution_count": null,
   "metadata": {},
   "outputs": [],
   "source": []
  }
 ],
 "metadata": {
  "interpreter": {
   "hash": "8a061a459805b0061a8aef2c35343c0415a5e15d26ef54442c765ebae2534280"
  },
  "kernelspec": {
   "display_name": "Python 3.9.7 64-bit ('greenpass': conda)",
   "language": "python",
   "name": "python3"
  },
  "language_info": {
   "codemirror_mode": {
    "name": "ipython",
    "version": 3
   },
   "file_extension": ".py",
   "mimetype": "text/x-python",
   "name": "python",
   "nbconvert_exporter": "python",
   "pygments_lexer": "ipython3",
   "version": "3.9.7"
  },
  "orig_nbformat": 4
 },
 "nbformat": 4,
 "nbformat_minor": 2
}
